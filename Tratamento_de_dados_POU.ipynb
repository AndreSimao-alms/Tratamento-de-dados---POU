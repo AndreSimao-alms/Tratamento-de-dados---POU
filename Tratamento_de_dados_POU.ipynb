{
  "nbformat": 4,
  "nbformat_minor": 0,
  "metadata": {
    "colab": {
      "name": "Tratamento de dados - POU.ipynb",
      "provenance": [],
      "collapsed_sections": [],
      "authorship_tag": "ABX9TyPDuTjq5Qgwhu3JXfaZMYwj",
      "include_colab_link": true
    },
    "kernelspec": {
      "name": "python3",
      "display_name": "Python 3"
    },
    "language_info": {
      "name": "python"
    }
  },
  "cells": [
    {
      "cell_type": "markdown",
      "metadata": {
        "id": "view-in-github",
        "colab_type": "text"
      },
      "source": [
        "<a href=\"https://colab.research.google.com/github/AndreSimao-alms/Tratamento-de-dados---POU/blob/main/Tratamento_de_dados_POU\" target=\"_parent\"><img src=\"https://colab.research.google.com/assets/colab-badge.svg\" alt=\"Open In Colab\"/></a>"
      ]
    },
    {
      "cell_type": "markdown",
      "metadata": {
        "id": "Y-1ioKEX8PSP"
      },
      "source": [
        "### **Importando bibliotecas**\n",
        "- Pandas\n",
        "- Matplotlib \n",
        "- Numpy"
      ]
    },
    {
      "cell_type": "code",
      "metadata": {
        "id": "cbZO9UDr5DID"
      },
      "source": [
        "import pandas as pd\n",
        "import matplotlib.pyplot as plt\n",
        "import numpy as np\n",
        "import matplotlib.ticker as mtick"
      ],
      "execution_count": 132,
      "outputs": []
    },
    {
      "cell_type": "markdown",
      "metadata": {
        "id": "s-EmYE_L8nX8"
      },
      "source": [
        "### **Leitura dos dados**"
      ]
    },
    {
      "cell_type": "code",
      "metadata": {
        "id": "1KKg3vCN5V63"
      },
      "source": [
        "df = pd.read_excel('Cópia de dados2.xlsx')"
      ],
      "execution_count": 10,
      "outputs": []
    },
    {
      "cell_type": "code",
      "metadata": {
        "id": "IYDH_Un96KQb",
        "colab": {
          "base_uri": "https://localhost:8080/",
          "height": 638
        },
        "outputId": "36adc3f1-698f-45b3-c982-368b9d84258f"
      },
      "source": [
        "df"
      ],
      "execution_count": 11,
      "outputs": [
        {
          "output_type": "execute_result",
          "data": {
            "text/html": [
              "<div>\n",
              "<style scoped>\n",
              "    .dataframe tbody tr th:only-of-type {\n",
              "        vertical-align: middle;\n",
              "    }\n",
              "\n",
              "    .dataframe tbody tr th {\n",
              "        vertical-align: top;\n",
              "    }\n",
              "\n",
              "    .dataframe thead th {\n",
              "        text-align: right;\n",
              "    }\n",
              "</style>\n",
              "<table border=\"1\" class=\"dataframe\">\n",
              "  <thead>\n",
              "    <tr style=\"text-align: right;\">\n",
              "      <th></th>\n",
              "      <th>Massa do balde</th>\n",
              "      <th>Temperatura da água</th>\n",
              "      <th>Unnamed: 2</th>\n",
              "      <th>Unnamed: 3</th>\n",
              "      <th>Unnamed: 4</th>\n",
              "      <th>Unnamed: 5</th>\n",
              "    </tr>\n",
              "  </thead>\n",
              "  <tbody>\n",
              "    <tr>\n",
              "      <th>0</th>\n",
              "      <td>Kg</td>\n",
              "      <td>oC</td>\n",
              "      <td>NaN</td>\n",
              "      <td>NaN</td>\n",
              "      <td>NaN</td>\n",
              "      <td>NaN</td>\n",
              "    </tr>\n",
              "    <tr>\n",
              "      <th>1</th>\n",
              "      <td>1.2</td>\n",
              "      <td>27.5</td>\n",
              "      <td>NaN</td>\n",
              "      <td>NaN</td>\n",
              "      <td>NaN</td>\n",
              "      <td>NaN</td>\n",
              "    </tr>\n",
              "    <tr>\n",
              "      <th>2</th>\n",
              "      <td>NaN</td>\n",
              "      <td>NaN</td>\n",
              "      <td>NaN</td>\n",
              "      <td>NaN</td>\n",
              "      <td>NaN</td>\n",
              "      <td>NaN</td>\n",
              "    </tr>\n",
              "    <tr>\n",
              "      <th>3</th>\n",
              "      <td>NaN</td>\n",
              "      <td>NaN</td>\n",
              "      <td>NaN</td>\n",
              "      <td>NaN</td>\n",
              "      <td>Pressão</td>\n",
              "      <td>NaN</td>\n",
              "    </tr>\n",
              "    <tr>\n",
              "      <th>4</th>\n",
              "      <td>Medida</td>\n",
              "      <td>Réplica</td>\n",
              "      <td>Balde + água</td>\n",
              "      <td>Tempo</td>\n",
              "      <td>vacuômetro</td>\n",
              "      <td>manômetro</td>\n",
              "    </tr>\n",
              "    <tr>\n",
              "      <th>5</th>\n",
              "      <td>-</td>\n",
              "      <td>-</td>\n",
              "      <td>Kg</td>\n",
              "      <td>s</td>\n",
              "      <td>inHg</td>\n",
              "      <td>Kgf/cm2</td>\n",
              "    </tr>\n",
              "    <tr>\n",
              "      <th>6</th>\n",
              "      <td>1</td>\n",
              "      <td>1</td>\n",
              "      <td>11</td>\n",
              "      <td>11.1</td>\n",
              "      <td>4</td>\n",
              "      <td>1</td>\n",
              "    </tr>\n",
              "    <tr>\n",
              "      <th>7</th>\n",
              "      <td>2</td>\n",
              "      <td>2</td>\n",
              "      <td>11.3</td>\n",
              "      <td>11.48</td>\n",
              "      <td>NaN</td>\n",
              "      <td>NaN</td>\n",
              "    </tr>\n",
              "    <tr>\n",
              "      <th>8</th>\n",
              "      <td>3</td>\n",
              "      <td>3</td>\n",
              "      <td>11.4</td>\n",
              "      <td>10.53</td>\n",
              "      <td>NaN</td>\n",
              "      <td>NaN</td>\n",
              "    </tr>\n",
              "    <tr>\n",
              "      <th>9</th>\n",
              "      <td>4</td>\n",
              "      <td>1</td>\n",
              "      <td>11.15</td>\n",
              "      <td>11.534</td>\n",
              "      <td>3.5</td>\n",
              "      <td>1.05</td>\n",
              "    </tr>\n",
              "    <tr>\n",
              "      <th>10</th>\n",
              "      <td>5</td>\n",
              "      <td>2</td>\n",
              "      <td>12</td>\n",
              "      <td>10.93</td>\n",
              "      <td>NaN</td>\n",
              "      <td>NaN</td>\n",
              "    </tr>\n",
              "    <tr>\n",
              "      <th>11</th>\n",
              "      <td>6</td>\n",
              "      <td>3</td>\n",
              "      <td>10.85</td>\n",
              "      <td>10.31</td>\n",
              "      <td>NaN</td>\n",
              "      <td>NaN</td>\n",
              "    </tr>\n",
              "    <tr>\n",
              "      <th>12</th>\n",
              "      <td>7</td>\n",
              "      <td>1</td>\n",
              "      <td>10.75</td>\n",
              "      <td>10.9</td>\n",
              "      <td>3</td>\n",
              "      <td>1.1</td>\n",
              "    </tr>\n",
              "    <tr>\n",
              "      <th>13</th>\n",
              "      <td>8</td>\n",
              "      <td>2</td>\n",
              "      <td>10.25</td>\n",
              "      <td>11.13</td>\n",
              "      <td>NaN</td>\n",
              "      <td>NaN</td>\n",
              "    </tr>\n",
              "    <tr>\n",
              "      <th>14</th>\n",
              "      <td>9</td>\n",
              "      <td>3</td>\n",
              "      <td>10.8</td>\n",
              "      <td>11.09</td>\n",
              "      <td>NaN</td>\n",
              "      <td>NaN</td>\n",
              "    </tr>\n",
              "    <tr>\n",
              "      <th>15</th>\n",
              "      <td>10</td>\n",
              "      <td>1</td>\n",
              "      <td>9.9</td>\n",
              "      <td>11</td>\n",
              "      <td>2</td>\n",
              "      <td>1.2</td>\n",
              "    </tr>\n",
              "    <tr>\n",
              "      <th>16</th>\n",
              "      <td>11</td>\n",
              "      <td>2</td>\n",
              "      <td>10.8</td>\n",
              "      <td>11.28</td>\n",
              "      <td>NaN</td>\n",
              "      <td>NaN</td>\n",
              "    </tr>\n",
              "    <tr>\n",
              "      <th>17</th>\n",
              "      <td>12</td>\n",
              "      <td>3</td>\n",
              "      <td>10.8</td>\n",
              "      <td>11.03</td>\n",
              "      <td>NaN</td>\n",
              "      <td>NaN</td>\n",
              "    </tr>\n",
              "    <tr>\n",
              "      <th>18</th>\n",
              "      <td>13</td>\n",
              "      <td>-</td>\n",
              "      <td>1.2</td>\n",
              "      <td>NaN</td>\n",
              "      <td>0</td>\n",
              "      <td>1.8</td>\n",
              "    </tr>\n",
              "  </tbody>\n",
              "</table>\n",
              "</div>"
            ],
            "text/plain": [
              "   Massa do balde Temperatura da água  ...  Unnamed: 4 Unnamed: 5\n",
              "0              Kg                  oC  ...         NaN        NaN\n",
              "1             1.2                27.5  ...         NaN        NaN\n",
              "2             NaN                 NaN  ...         NaN        NaN\n",
              "3             NaN                 NaN  ...     Pressão        NaN\n",
              "4          Medida             Réplica  ...  vacuômetro  manômetro\n",
              "5               -                   -  ...        inHg    Kgf/cm2\n",
              "6               1                   1  ...           4          1\n",
              "7               2                   2  ...         NaN        NaN\n",
              "8               3                   3  ...         NaN        NaN\n",
              "9               4                   1  ...         3.5       1.05\n",
              "10              5                   2  ...         NaN        NaN\n",
              "11              6                   3  ...         NaN        NaN\n",
              "12              7                   1  ...           3        1.1\n",
              "13              8                   2  ...         NaN        NaN\n",
              "14              9                   3  ...         NaN        NaN\n",
              "15             10                   1  ...           2        1.2\n",
              "16             11                   2  ...         NaN        NaN\n",
              "17             12                   3  ...         NaN        NaN\n",
              "18             13                   -  ...           0        1.8\n",
              "\n",
              "[19 rows x 6 columns]"
            ]
          },
          "metadata": {},
          "execution_count": 11
        }
      ]
    },
    {
      "cell_type": "code",
      "metadata": {
        "id": "yBHnMhKL653x",
        "colab": {
          "base_uri": "https://localhost:8080/"
        },
        "outputId": "08f329e0-a54a-47c7-d38d-44992f549db9"
      },
      "source": [
        "df.info"
      ],
      "execution_count": 12,
      "outputs": [
        {
          "output_type": "execute_result",
          "data": {
            "text/plain": [
              "<bound method DataFrame.info of    Massa do balde Temperatura da água  ...  Unnamed: 4 Unnamed: 5\n",
              "0              Kg                  oC  ...         NaN        NaN\n",
              "1             1.2                27.5  ...         NaN        NaN\n",
              "2             NaN                 NaN  ...         NaN        NaN\n",
              "3             NaN                 NaN  ...     Pressão        NaN\n",
              "4          Medida             Réplica  ...  vacuômetro  manômetro\n",
              "5               -                   -  ...        inHg    Kgf/cm2\n",
              "6               1                   1  ...           4          1\n",
              "7               2                   2  ...         NaN        NaN\n",
              "8               3                   3  ...         NaN        NaN\n",
              "9               4                   1  ...         3.5       1.05\n",
              "10              5                   2  ...         NaN        NaN\n",
              "11              6                   3  ...         NaN        NaN\n",
              "12              7                   1  ...           3        1.1\n",
              "13              8                   2  ...         NaN        NaN\n",
              "14              9                   3  ...         NaN        NaN\n",
              "15             10                   1  ...           2        1.2\n",
              "16             11                   2  ...         NaN        NaN\n",
              "17             12                   3  ...         NaN        NaN\n",
              "18             13                   -  ...           0        1.8\n",
              "\n",
              "[19 rows x 6 columns]>"
            ]
          },
          "metadata": {},
          "execution_count": 12
        }
      ]
    },
    {
      "cell_type": "code",
      "metadata": {
        "id": "_ACCBmvx7Vq_",
        "colab": {
          "base_uri": "https://localhost:8080/"
        },
        "outputId": "eef78c25-a4f1-4412-9904-41d7ea91bbd9"
      },
      "source": [
        "df['Massa do balde']"
      ],
      "execution_count": 13,
      "outputs": [
        {
          "output_type": "execute_result",
          "data": {
            "text/plain": [
              "0         Kg\n",
              "1        1.2\n",
              "2        NaN\n",
              "3        NaN\n",
              "4     Medida\n",
              "5          -\n",
              "6          1\n",
              "7          2\n",
              "8          3\n",
              "9          4\n",
              "10         5\n",
              "11         6\n",
              "12         7\n",
              "13         8\n",
              "14         9\n",
              "15        10\n",
              "16        11\n",
              "17        12\n",
              "18        13\n",
              "Name: Massa do balde, dtype: object"
            ]
          },
          "metadata": {},
          "execution_count": 13
        }
      ]
    },
    {
      "cell_type": "markdown",
      "metadata": {
        "id": "Lb0DGDdE8wV_"
      },
      "source": [
        "### Limpando bancos de dados e editando linhas e colunas "
      ]
    },
    {
      "cell_type": "code",
      "metadata": {
        "id": "5UDvPDr7CXX4"
      },
      "source": [
        "df = df.iloc[range(6,19)]"
      ],
      "execution_count": 14,
      "outputs": []
    },
    {
      "cell_type": "code",
      "metadata": {
        "id": "cVCT1UD6pS4H",
        "colab": {
          "base_uri": "https://localhost:8080/"
        },
        "outputId": "af15fe35-8f38-4309-e166-9431698e55d9"
      },
      "source": [
        "df.index"
      ],
      "execution_count": 15,
      "outputs": [
        {
          "output_type": "execute_result",
          "data": {
            "text/plain": [
              "Int64Index([6, 7, 8, 9, 10, 11, 12, 13, 14, 15, 16, 17, 18], dtype='int64')"
            ]
          },
          "metadata": {},
          "execution_count": 15
        }
      ]
    },
    {
      "cell_type": "code",
      "metadata": {
        "id": "SHJhm846Dz4R"
      },
      "source": [
        "df = df.rename(columns = {'Massa do balde': 'Medida'}) "
      ],
      "execution_count": 16,
      "outputs": []
    },
    {
      "cell_type": "code",
      "metadata": {
        "id": "iqXkkIZiEV1Y"
      },
      "source": [
        "df = df.rename(columns = {'Temperatura da água':'Réplica'})"
      ],
      "execution_count": 17,
      "outputs": []
    },
    {
      "cell_type": "code",
      "metadata": {
        "id": "m71nXyDlIRhQ"
      },
      "source": [
        "df = df.rename(columns = {'Unnamed: 2':'Balde+H20 (Kg)'})"
      ],
      "execution_count": 18,
      "outputs": []
    },
    {
      "cell_type": "code",
      "metadata": {
        "id": "QbGjxdgfJAil"
      },
      "source": [
        "df = df.rename(columns = {'Unnamed: 3':'Tempo (s)'})"
      ],
      "execution_count": 19,
      "outputs": []
    },
    {
      "cell_type": "code",
      "metadata": {
        "id": "yTyql6NOJO5U"
      },
      "source": [
        "df = df.rename(columns = {'Unnamed: 4': 'Vac (inHg)'})"
      ],
      "execution_count": 20,
      "outputs": []
    },
    {
      "cell_type": "code",
      "metadata": {
        "id": "JYnYw7IWJfhE"
      },
      "source": [
        "df = df.rename(columns = {'Unnamed: 5': 'Man (Kfg/cm2)'})"
      ],
      "execution_count": 21,
      "outputs": []
    },
    {
      "cell_type": "markdown",
      "metadata": {
        "id": "R1ciN0BE8-ht"
      },
      "source": [
        "### **Selecionando valores pressão**"
      ]
    },
    {
      "cell_type": "code",
      "metadata": {
        "id": "GXkWlIArKHn7",
        "colab": {
          "base_uri": "https://localhost:8080/"
        },
        "outputId": "3ef0e360-ea06-41fa-e3e3-330bae39f0c2"
      },
      "source": [
        "filtro_vac = df['Vac (inHg)'].isnull()\n",
        "vac = df[~filtro_vac]['Vac (inHg)'] # Valores de Vac separados\n",
        "vac"
      ],
      "execution_count": 73,
      "outputs": [
        {
          "output_type": "execute_result",
          "data": {
            "text/plain": [
              "6       4\n",
              "9     3.5\n",
              "12      3\n",
              "15      2\n",
              "18      0\n",
              "Name: Vac (inHg), dtype: object"
            ]
          },
          "metadata": {},
          "execution_count": 73
        }
      ]
    },
    {
      "cell_type": "code",
      "metadata": {
        "id": "iUDXqFD6aK2R",
        "colab": {
          "base_uri": "https://localhost:8080/"
        },
        "outputId": "65a0534b-9019-4b6c-d7c5-1ea6a7523777"
      },
      "source": [
        "filtro_Man = df['Man (Kfg/cm2)'].isnull()\n",
        "Man = df[~filtro_Man]['Man (Kfg/cm2)'] # Valores de Man separados\n",
        "Man"
      ],
      "execution_count": 74,
      "outputs": [
        {
          "output_type": "execute_result",
          "data": {
            "text/plain": [
              "6        1\n",
              "9     1.05\n",
              "12     1.1\n",
              "15     1.2\n",
              "18     1.8\n",
              "Name: Man (Kfg/cm2), dtype: object"
            ]
          },
          "metadata": {},
          "execution_count": 74
        }
      ]
    },
    {
      "cell_type": "markdown",
      "metadata": {
        "id": "CeTWJY49wsYq"
      },
      "source": [
        "### **Massa de água:**\n",
        "- Subtração da massa do balde"
      ]
    },
    {
      "cell_type": "code",
      "metadata": {
        "colab": {
          "base_uri": "https://localhost:8080/",
          "height": 452
        },
        "id": "L24UhaNvw0Ow",
        "outputId": "d7775cc2-1ac2-4b23-b6cd-761f34a55a45"
      },
      "source": [
        "df['Massa H20'] = massa\n",
        "df"
      ],
      "execution_count": 51,
      "outputs": [
        {
          "output_type": "execute_result",
          "data": {
            "text/html": [
              "<div>\n",
              "<style scoped>\n",
              "    .dataframe tbody tr th:only-of-type {\n",
              "        vertical-align: middle;\n",
              "    }\n",
              "\n",
              "    .dataframe tbody tr th {\n",
              "        vertical-align: top;\n",
              "    }\n",
              "\n",
              "    .dataframe thead th {\n",
              "        text-align: right;\n",
              "    }\n",
              "</style>\n",
              "<table border=\"1\" class=\"dataframe\">\n",
              "  <thead>\n",
              "    <tr style=\"text-align: right;\">\n",
              "      <th></th>\n",
              "      <th>Medida</th>\n",
              "      <th>Réplica</th>\n",
              "      <th>Tempo (s)</th>\n",
              "      <th>Vac (inHg)</th>\n",
              "      <th>Man (Kfg/cm2)</th>\n",
              "      <th>Massa H20</th>\n",
              "    </tr>\n",
              "  </thead>\n",
              "  <tbody>\n",
              "    <tr>\n",
              "      <th>6</th>\n",
              "      <td>1</td>\n",
              "      <td>1</td>\n",
              "      <td>11.1</td>\n",
              "      <td>4</td>\n",
              "      <td>1</td>\n",
              "      <td>9.8</td>\n",
              "    </tr>\n",
              "    <tr>\n",
              "      <th>7</th>\n",
              "      <td>2</td>\n",
              "      <td>2</td>\n",
              "      <td>11.48</td>\n",
              "      <td>NaN</td>\n",
              "      <td>NaN</td>\n",
              "      <td>10.1</td>\n",
              "    </tr>\n",
              "    <tr>\n",
              "      <th>8</th>\n",
              "      <td>3</td>\n",
              "      <td>3</td>\n",
              "      <td>10.53</td>\n",
              "      <td>NaN</td>\n",
              "      <td>NaN</td>\n",
              "      <td>10.2</td>\n",
              "    </tr>\n",
              "    <tr>\n",
              "      <th>9</th>\n",
              "      <td>4</td>\n",
              "      <td>1</td>\n",
              "      <td>11.534</td>\n",
              "      <td>3.5</td>\n",
              "      <td>1.05</td>\n",
              "      <td>9.95</td>\n",
              "    </tr>\n",
              "    <tr>\n",
              "      <th>10</th>\n",
              "      <td>5</td>\n",
              "      <td>2</td>\n",
              "      <td>10.93</td>\n",
              "      <td>NaN</td>\n",
              "      <td>NaN</td>\n",
              "      <td>10.8</td>\n",
              "    </tr>\n",
              "    <tr>\n",
              "      <th>11</th>\n",
              "      <td>6</td>\n",
              "      <td>3</td>\n",
              "      <td>10.31</td>\n",
              "      <td>NaN</td>\n",
              "      <td>NaN</td>\n",
              "      <td>9.65</td>\n",
              "    </tr>\n",
              "    <tr>\n",
              "      <th>12</th>\n",
              "      <td>7</td>\n",
              "      <td>1</td>\n",
              "      <td>10.9</td>\n",
              "      <td>3</td>\n",
              "      <td>1.1</td>\n",
              "      <td>9.55</td>\n",
              "    </tr>\n",
              "    <tr>\n",
              "      <th>13</th>\n",
              "      <td>8</td>\n",
              "      <td>2</td>\n",
              "      <td>11.13</td>\n",
              "      <td>NaN</td>\n",
              "      <td>NaN</td>\n",
              "      <td>9.05</td>\n",
              "    </tr>\n",
              "    <tr>\n",
              "      <th>14</th>\n",
              "      <td>9</td>\n",
              "      <td>3</td>\n",
              "      <td>11.09</td>\n",
              "      <td>NaN</td>\n",
              "      <td>NaN</td>\n",
              "      <td>9.6</td>\n",
              "    </tr>\n",
              "    <tr>\n",
              "      <th>15</th>\n",
              "      <td>10</td>\n",
              "      <td>1</td>\n",
              "      <td>11</td>\n",
              "      <td>2</td>\n",
              "      <td>1.2</td>\n",
              "      <td>8.7</td>\n",
              "    </tr>\n",
              "    <tr>\n",
              "      <th>16</th>\n",
              "      <td>11</td>\n",
              "      <td>2</td>\n",
              "      <td>11.28</td>\n",
              "      <td>NaN</td>\n",
              "      <td>NaN</td>\n",
              "      <td>9.6</td>\n",
              "    </tr>\n",
              "    <tr>\n",
              "      <th>17</th>\n",
              "      <td>12</td>\n",
              "      <td>3</td>\n",
              "      <td>11.03</td>\n",
              "      <td>NaN</td>\n",
              "      <td>NaN</td>\n",
              "      <td>9.6</td>\n",
              "    </tr>\n",
              "    <tr>\n",
              "      <th>18</th>\n",
              "      <td>13</td>\n",
              "      <td>-</td>\n",
              "      <td>NaN</td>\n",
              "      <td>0</td>\n",
              "      <td>1.8</td>\n",
              "      <td>0</td>\n",
              "    </tr>\n",
              "  </tbody>\n",
              "</table>\n",
              "</div>"
            ],
            "text/plain": [
              "   Medida Réplica Tempo (s) Vac (inHg) Man (Kfg/cm2) Massa H20\n",
              "6       1       1      11.1          4             1       9.8\n",
              "7       2       2     11.48        NaN           NaN      10.1\n",
              "8       3       3     10.53        NaN           NaN      10.2\n",
              "9       4       1    11.534        3.5          1.05      9.95\n",
              "10      5       2     10.93        NaN           NaN      10.8\n",
              "11      6       3     10.31        NaN           NaN      9.65\n",
              "12      7       1      10.9          3           1.1      9.55\n",
              "13      8       2     11.13        NaN           NaN      9.05\n",
              "14      9       3     11.09        NaN           NaN       9.6\n",
              "15     10       1        11          2           1.2       8.7\n",
              "16     11       2     11.28        NaN           NaN       9.6\n",
              "17     12       3     11.03        NaN           NaN       9.6\n",
              "18     13       -       NaN          0           1.8         0"
            ]
          },
          "metadata": {},
          "execution_count": 51
        }
      ]
    },
    {
      "cell_type": "markdown",
      "metadata": {
        "id": "R9N2OxX9c97Z"
      },
      "source": [
        "### **Média das replicatas Massa:** "
      ]
    },
    {
      "cell_type": "code",
      "metadata": {
        "id": "qTp6E9ISdsyD",
        "colab": {
          "base_uri": "https://localhost:8080/"
        },
        "outputId": "b179f0e8-816f-492d-a00f-deadd5e91d3d"
      },
      "source": [
        "i=3\n",
        "media_m = []\n",
        "for x in range(0,15,3):  \n",
        "  medias_m = df[x:i]['Massa H20'].mean().round(3)\n",
        "  i += 3\n",
        "  media_m.append(medias_m)\n",
        "\n",
        "media_m = pd.Series(media_m) \n",
        "media_m"
      ],
      "execution_count": 72,
      "outputs": [
        {
          "output_type": "execute_result",
          "data": {
            "text/plain": [
              "0    10.033\n",
              "1    10.133\n",
              "2     9.400\n",
              "3     9.300\n",
              "4     0.000\n",
              "dtype: float64"
            ]
          },
          "metadata": {},
          "execution_count": 72
        }
      ]
    },
    {
      "cell_type": "markdown",
      "metadata": {
        "id": "zkO1HcYX5fhZ"
      },
      "source": [
        "### **Média das replicatas Tempo:** \n",
        "\n"
      ]
    },
    {
      "cell_type": "code",
      "metadata": {
        "id": "zkCNkJ5t40pB",
        "colab": {
          "base_uri": "https://localhost:8080/"
        },
        "outputId": "04a32c3c-3bc3-4557-aca3-9aebf8860cfe"
      },
      "source": [
        "media_t = []\n",
        "x = 3\n",
        "for i in range(0,15,3):\n",
        "  medias_t = df[i:x]['Tempo (s)'].mean()\n",
        "  x += 3 \n",
        "  media_t.append(medias_t)\n",
        "media_t"
      ],
      "execution_count": 92,
      "outputs": [
        {
          "output_type": "execute_result",
          "data": {
            "text/plain": [
              "[11.036666666666667,\n",
              " 10.924666666666667,\n",
              " 11.040000000000001,\n",
              " 11.103333333333333,\n",
              " nan]"
            ]
          },
          "metadata": {},
          "execution_count": 92
        }
      ]
    },
    {
      "cell_type": "markdown",
      "metadata": {
        "id": "XtaJ_FgA7_cC"
      },
      "source": [
        "### **Conversão de inHg para Kfg/cm2**"
      ]
    },
    {
      "cell_type": "code",
      "metadata": {
        "id": "HorU5HVs5DEs",
        "colab": {
          "base_uri": "https://localhost:8080/"
        },
        "outputId": "51dd4ba1-a019-491b-fa62-d0fb9d4d4c0d"
      },
      "source": [
        "vac_conv = np.array(vac)*0.0345316\n",
        "vac_conv"
      ],
      "execution_count": 26,
      "outputs": [
        {
          "output_type": "execute_result",
          "data": {
            "text/plain": [
              "array([0.1381264, 0.12086060000000001, 0.10359480000000001, 0.0690632,\n",
              "       0.0], dtype=object)"
            ]
          },
          "metadata": {},
          "execution_count": 26
        }
      ]
    },
    {
      "cell_type": "code",
      "metadata": {
        "id": "PIKcz8Ej54kM",
        "colab": {
          "base_uri": "https://localhost:8080/",
          "height": 204
        },
        "outputId": "38611b3c-1d42-4e59-f978-9225d4da54bb"
      },
      "source": [
        "df.head()"
      ],
      "execution_count": 27,
      "outputs": [
        {
          "output_type": "execute_result",
          "data": {
            "text/html": [
              "<div>\n",
              "<style scoped>\n",
              "    .dataframe tbody tr th:only-of-type {\n",
              "        vertical-align: middle;\n",
              "    }\n",
              "\n",
              "    .dataframe tbody tr th {\n",
              "        vertical-align: top;\n",
              "    }\n",
              "\n",
              "    .dataframe thead th {\n",
              "        text-align: right;\n",
              "    }\n",
              "</style>\n",
              "<table border=\"1\" class=\"dataframe\">\n",
              "  <thead>\n",
              "    <tr style=\"text-align: right;\">\n",
              "      <th></th>\n",
              "      <th>Medida</th>\n",
              "      <th>Réplica</th>\n",
              "      <th>Balde+H20 (Kg)</th>\n",
              "      <th>Tempo (s)</th>\n",
              "      <th>Vac (inHg)</th>\n",
              "      <th>Man (Kfg/cm2)</th>\n",
              "    </tr>\n",
              "  </thead>\n",
              "  <tbody>\n",
              "    <tr>\n",
              "      <th>6</th>\n",
              "      <td>1</td>\n",
              "      <td>1</td>\n",
              "      <td>11</td>\n",
              "      <td>11.1</td>\n",
              "      <td>4</td>\n",
              "      <td>1</td>\n",
              "    </tr>\n",
              "    <tr>\n",
              "      <th>7</th>\n",
              "      <td>2</td>\n",
              "      <td>2</td>\n",
              "      <td>11.3</td>\n",
              "      <td>11.48</td>\n",
              "      <td>NaN</td>\n",
              "      <td>NaN</td>\n",
              "    </tr>\n",
              "    <tr>\n",
              "      <th>8</th>\n",
              "      <td>3</td>\n",
              "      <td>3</td>\n",
              "      <td>11.4</td>\n",
              "      <td>10.53</td>\n",
              "      <td>NaN</td>\n",
              "      <td>NaN</td>\n",
              "    </tr>\n",
              "    <tr>\n",
              "      <th>9</th>\n",
              "      <td>4</td>\n",
              "      <td>1</td>\n",
              "      <td>11.15</td>\n",
              "      <td>11.534</td>\n",
              "      <td>3.5</td>\n",
              "      <td>1.05</td>\n",
              "    </tr>\n",
              "    <tr>\n",
              "      <th>10</th>\n",
              "      <td>5</td>\n",
              "      <td>2</td>\n",
              "      <td>12</td>\n",
              "      <td>10.93</td>\n",
              "      <td>NaN</td>\n",
              "      <td>NaN</td>\n",
              "    </tr>\n",
              "  </tbody>\n",
              "</table>\n",
              "</div>"
            ],
            "text/plain": [
              "   Medida Réplica Balde+H20 (Kg) Tempo (s) Vac (inHg) Man (Kfg/cm2)\n",
              "6       1       1             11      11.1          4             1\n",
              "7       2       2           11.3     11.48        NaN           NaN\n",
              "8       3       3           11.4     10.53        NaN           NaN\n",
              "9       4       1          11.15    11.534        3.5          1.05\n",
              "10      5       2             12     10.93        NaN           NaN"
            ]
          },
          "metadata": {},
          "execution_count": 27
        }
      ]
    },
    {
      "cell_type": "markdown",
      "metadata": {
        "id": "dOsecPwYqIT0"
      },
      "source": [
        "### **Desvio Padrão**"
      ]
    },
    {
      "cell_type": "markdown",
      "metadata": {
        "id": "GxbaOmtDqO8H"
      },
      "source": [
        "**Massa:**"
      ]
    },
    {
      "cell_type": "code",
      "metadata": {
        "id": "w1oWI4hA7rRW",
        "colab": {
          "base_uri": "https://localhost:8080/"
        },
        "outputId": "91c9a0ed-dedc-4dc4-fea3-020c3db549da"
      },
      "source": [
        "std_m = media_m.std()\n",
        "std_m"
      ],
      "execution_count": 28,
      "outputs": [
        {
          "output_type": "execute_result",
          "data": {
            "text/plain": [
              "4.361066005003822"
            ]
          },
          "metadata": {},
          "execution_count": 28
        }
      ]
    },
    {
      "cell_type": "markdown",
      "metadata": {
        "id": "2gHJBdu0qZML"
      },
      "source": [
        "**Tempo:**"
      ]
    },
    {
      "cell_type": "code",
      "metadata": {
        "id": "mbv0vBBir7Ds",
        "colab": {
          "base_uri": "https://localhost:8080/"
        },
        "outputId": "1bbaa5cc-77ff-45a1-d1be-4e9f5dff9b4a"
      },
      "source": [
        "media_t = pd.Series(media_t)\n",
        "std_t = media_t.std()\n",
        "std_t"
      ],
      "execution_count": 29,
      "outputs": [
        {
          "output_type": "execute_result",
          "data": {
            "text/plain": [
              "0.0742934621519183"
            ]
          },
          "metadata": {},
          "execution_count": 29
        }
      ]
    },
    {
      "cell_type": "markdown",
      "metadata": {
        "id": "KzxE70Vrqd6l"
      },
      "source": [
        "**Pressão Vacuômetro:**"
      ]
    },
    {
      "cell_type": "code",
      "metadata": {
        "id": "RQ4lg2N-sZuM",
        "colab": {
          "base_uri": "https://localhost:8080/"
        },
        "outputId": "c9ba9893-e92f-4a05-bccf-cc7d47456ce6"
      },
      "source": [
        "std_vac = vac.std()\n",
        "std_vac"
      ],
      "execution_count": 30,
      "outputs": [
        {
          "output_type": "execute_result",
          "data": {
            "text/plain": [
              "1.5811388300841898"
            ]
          },
          "metadata": {},
          "execution_count": 30
        }
      ]
    },
    {
      "cell_type": "markdown",
      "metadata": {
        "id": "jqJYDCU_qlqF"
      },
      "source": [
        "**Pressão Manômetro:**"
      ]
    },
    {
      "cell_type": "code",
      "metadata": {
        "id": "V1cXvheH70XW",
        "colab": {
          "base_uri": "https://localhost:8080/"
        },
        "outputId": "69d2b0ca-e1f4-4dc5-b7c5-2c97fd2b5579"
      },
      "source": [
        "std_Man = Man.std()\n",
        "std_Man"
      ],
      "execution_count": 31,
      "outputs": [
        {
          "output_type": "execute_result",
          "data": {
            "text/plain": [
              "0.32710854467592254"
            ]
          },
          "metadata": {},
          "execution_count": 31
        }
      ]
    },
    {
      "cell_type": "markdown",
      "metadata": {
        "id": "cMeOBEsCuDPw"
      },
      "source": [
        "### Cálculos (x,y)"
      ]
    },
    {
      "cell_type": "markdown",
      "metadata": {
        "id": "UTLQuZtlwuFI"
      },
      "source": [
        "#### Eixo y:\n",
        "\n",
        "- y = H = (Man + Vac) / gama  (m)\n",
        "- Massa específica da água em 27.5ºC: 996.39 kg/m3\n",
        "\n",
        "\n"
      ]
    },
    {
      "cell_type": "code",
      "metadata": {
        "id": "3XfgiSGXtseH",
        "colab": {
          "base_uri": "https://localhost:8080/"
        },
        "outputId": "1709e9f3-9345-4f66-f588-01e2d8ab059a"
      },
      "source": [
        "H = ((Man + vac_conv)/ (996.39*9.81))\n",
        "H"
      ],
      "execution_count": 84,
      "outputs": [
        {
          "output_type": "execute_result",
          "data": {
            "text/plain": [
              "6     0.000116437\n",
              "9     0.000119786\n",
              "12    0.000123135\n",
              "15    0.000129833\n",
              "18    0.000184151\n",
              "Name: Man (Kfg/cm2), dtype: object"
            ]
          },
          "metadata": {},
          "execution_count": 84
        }
      ]
    },
    {
      "cell_type": "markdown",
      "metadata": {
        "id": "pdFG4BXGy0sc"
      },
      "source": [
        "#### Eixo x:\n",
        "- x = Q = Volume / tempo (m3/h)"
      ]
    },
    {
      "cell_type": "code",
      "metadata": {
        "colab": {
          "base_uri": "https://localhost:8080/"
        },
        "id": "TphrUgIAsWsV",
        "outputId": "3c952c88-5051-435c-b9cc-3decb7eda9eb"
      },
      "source": [
        "media_t = np.array(media_t)\n",
        "media_t = media_t/3600\n",
        "media_t"
      ],
      "execution_count": 93,
      "outputs": [
        {
          "output_type": "execute_result",
          "data": {
            "text/plain": [
              "array([0.00306574, 0.00303463, 0.00306667, 0.00308426,        nan])"
            ]
          },
          "metadata": {},
          "execution_count": 93
        }
      ]
    },
    {
      "cell_type": "code",
      "metadata": {
        "colab": {
          "base_uri": "https://localhost:8080/"
        },
        "id": "cpmkZsbU06jv",
        "outputId": "8d702c08-7893-4895-b3c0-ffb64ead2b30"
      },
      "source": [
        "media_m = np.array(media_m)\n",
        "vol_m = media_m/996.39\n",
        "vol_m"
      ],
      "execution_count": 94,
      "outputs": [
        {
          "output_type": "execute_result",
          "data": {
            "text/plain": [
              "array([0.01006935, 0.01016971, 0.00943406, 0.00933369, 0.        ])"
            ]
          },
          "metadata": {},
          "execution_count": 94
        }
      ]
    },
    {
      "cell_type": "code",
      "metadata": {
        "colab": {
          "base_uri": "https://localhost:8080/"
        },
        "id": "ap6Bt6Du1V9l",
        "outputId": "320384d9-ce74-44ea-ce3a-9f453564dde8"
      },
      "source": [
        "# Vazão volumétrica\n",
        "Q = vol_m/media_t\n",
        "Q = pd.Series(Q)\n",
        "Q.fillna(0,inplace=True)\n",
        "Q"
      ],
      "execution_count": 129,
      "outputs": [
        {
          "output_type": "execute_result",
          "data": {
            "text/plain": [
              "0    3.284476\n",
              "1    3.351220\n",
              "2    3.076323\n",
              "3    3.026235\n",
              "4    0.000000\n",
              "dtype: float64"
            ]
          },
          "metadata": {},
          "execution_count": 129
        }
      ]
    },
    {
      "cell_type": "markdown",
      "metadata": {
        "id": "EPB9JoFWvEMg"
      },
      "source": [
        "### Plotagem do gráfico"
      ]
    },
    {
      "cell_type": "code",
      "metadata": {
        "colab": {
          "base_uri": "https://localhost:8080/",
          "height": 299
        },
        "id": "NXUfG7S11jBD",
        "outputId": "61e50ced-8b0c-4351-c0d8-a61aaf88a364"
      },
      "source": [
        "fig, ax = plt.subplots()\n",
        "plt.style.use('ggplot')\n",
        "plt.title('Altura Manométrica x Vazão Volumétrica', loc='left', fontweight='black', family='cursive')\n",
        "plt.ylabel('H (m)',fontweight='black')\n",
        "plt.xlabel('Q (m³/h)',fontweight='black')\n",
        "ax.yaxis.set_major_formatter(mtick.FormatStrFormatter('%.2e'))\n",
        "plt.plot(Q,H,color='green', label='Curva da Bomba')\n",
        "plt.legend()\n",
        "plt.savefig('GráficoPython.png')\n",
        "plt.savefig('GráficoPython.pdf')"
      ],
      "execution_count": 138,
      "outputs": [
        {
          "output_type": "display_data",
          "data": {
            "image/png": "[encoded data removed]",
            "text/plain": [
              "<Figure size 432x288 with 1 Axes>"
            ]
          },
          "metadata": {}
        }
      ]
    },
    {
      "cell_type": "markdown",
      "metadata": {
        "id": "HIJWuDHmtxta"
      },
      "source": [
        ""
      ]
    }
  ]
}
